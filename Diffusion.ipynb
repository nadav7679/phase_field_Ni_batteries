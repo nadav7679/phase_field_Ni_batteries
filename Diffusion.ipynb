{
 "cells": [
  {
   "cell_type": "code",
   "execution_count": 39,
   "id": "c716b937",
   "metadata": {},
   "outputs": [],
   "source": [
    "import numpy as np\n",
    "import matplotlib.pyplot as plt"
   ]
  },
  {
   "cell_type": "markdown",
   "id": "d757ba36",
   "metadata": {},
   "source": [
    "# Diffusion Equation\n",
    "\n",
    "$\\frac{\\partial u(x,t)}{\\partial t} = D \\frac{\\partial^2 u(x,t)}{{\\partial x}^2}$\n",
    "\n",
    "\n",
    "$\\frac{u(x_i, t_{j+1}) - u(x_i, t_j)}{\\Delta t} = D[\\frac{u(x_{i+1}, t_j) - 2u(x_i, t_j) + u(x_{i-1}, t_j))}{{\\Delta x}^2}]$\n",
    "\n",
    "$u(x_0,t_j) = u(x_n, t_j) = 0$"
   ]
  },
  {
   "cell_type": "code",
   "execution_count": 33,
   "id": "838e9202",
   "metadata": {},
   "outputs": [],
   "source": [
    "# First we will try with zero boundry conditions\n",
    "\n",
    "def left_boundry(u_curr: int) -> int:\n",
    "    return 0\n",
    "\n",
    "def right_boundry(u_curr: int) -> int:\n",
    "    return 0\n",
    "\n",
    "def iter_u(u_curr: list, dt: float, dx: float) -> list:\n",
    "    D = 2 #Diffusion coeffcient\n",
    "    \n",
    "    n = len(u_curr)\n",
    "    u_first = u_curr[0]\n",
    "    u_last = u_curr[n-1]\n",
    "    u_bulk_curr = u_curr[1:n-1]\n",
    "    \n",
    "    u_bulk_rolled_right = np.roll(u_curr, 1)[1:n-1]\n",
    "    u_bulk_rolled_left = np.roll(u_curr, -1)[1:n-1]\n",
    "    \n",
    "    u_first = left_boundry(u_first)\n",
    "    u_last = right_boundry(u_last)\n",
    "    u_bulk = u_bulk_curr + (D*dt/(dx**2)) * (u_bulk_rolled_left + u_bulk_rolled_right - 2*u_bulk_curr)\n",
    "    \n",
    "    u_next = np.append(np.insert(u_bulk, 0, u_first), u_last)\n",
    "    return u_next"
   ]
  },
  {
   "cell_type": "code",
   "execution_count": 45,
   "id": "276252cc",
   "metadata": {},
   "outputs": [],
   "source": [
    "n = 1000\n",
    "dx = 0.1\n",
    "dt = 0.001\n",
    "t_end = 1000 \n",
    "\n",
    "initial_condition = np.zeros(n)\n",
    "initial_condition[n-600:n-400] = np.ones(200)*10\n",
    "\n",
    "t_domain = np.arange(0, t_end, 0.1)\n",
    "u = np.zeros((len(t_domain), n))\n",
    "for i in range(len(t_domain)):\n",
    "    if i == 0:\n",
    "        u[i, :] = initial_condition\n",
    "        continue\n",
    "    \n",
    "    u[i, :] = iter_u(u[i-1, :], dt, dx)\n"
   ]
  },
  {
   "cell_type": "code",
   "execution_count": null,
   "id": "8433a9e9",
   "metadata": {},
   "outputs": [],
   "source": [
    "for row in u:\n",
    "    plt.plot(range(n), row)\n",
    "    plt.pause(0.02)\n",
    "plt.show()"
   ]
  },
  {
   "cell_type": "code",
   "execution_count": null,
   "id": "3bd77add",
   "metadata": {},
   "outputs": [],
   "source": []
  }
 ],
 "metadata": {
  "kernelspec": {
   "display_name": "Python 3 (ipykernel)",
   "language": "python",
   "name": "python3"
  },
  "language_info": {
   "codemirror_mode": {
    "name": "ipython",
    "version": 3
   },
   "file_extension": ".py",
   "mimetype": "text/x-python",
   "name": "python",
   "nbconvert_exporter": "python",
   "pygments_lexer": "ipython3",
   "version": "3.10.0"
  }
 },
 "nbformat": 4,
 "nbformat_minor": 5
}
