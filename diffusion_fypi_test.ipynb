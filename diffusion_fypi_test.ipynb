{
 "cells": [
  {
   "cell_type": "code",
   "execution_count": 1,
   "id": "d5d4cf55",
   "metadata": {},
   "outputs": [],
   "source": [
    "from fipy import Grid1D, CellVariable, TransientTerm, DiffusionTerm, Viewer"
   ]
  },
  {
   "cell_type": "code",
   "execution_count": 2,
   "id": "d144626b",
   "metadata": {},
   "outputs": [],
   "source": [
    "m = Grid1D(nx=100, Lx=1.)"
   ]
  }
 ],
 "metadata": {
  "kernelspec": {
   "display_name": "Python 3 (ipykernel)",
   "language": "python",
   "name": "python3"
  },
  "language_info": {
   "codemirror_mode": {
    "name": "ipython",
    "version": 3
   },
   "file_extension": ".py",
   "mimetype": "text/x-python",
   "name": "python",
   "nbconvert_exporter": "python",
   "pygments_lexer": "ipython3",
   "version": "3.10.0"
  }
 },
 "nbformat": 4,
 "nbformat_minor": 5
}
